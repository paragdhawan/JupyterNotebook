{
 "cells": [
  {
   "cell_type": "markdown",
   "metadata": {},
   "source": [
    "# List all the magic commands"
   ]
  },
  {
   "cell_type": "code",
   "execution_count": 2,
   "metadata": {},
   "outputs": [
    {
     "data": {
      "application/json": {
       "cell": {
        "!": "OSMagics",
        "HTML": "Other",
        "SVG": "Other",
        "bash": "Other",
        "capture": "ExecutionMagics",
        "cmd": "Other",
        "debug": "ExecutionMagics",
        "file": "Other",
        "html": "DisplayMagics",
        "javascript": "DisplayMagics",
        "js": "DisplayMagics",
        "latex": "DisplayMagics",
        "markdown": "DisplayMagics",
        "perl": "Other",
        "prun": "ExecutionMagics",
        "pypy": "Other",
        "python": "Other",
        "python2": "Other",
        "python3": "Other",
        "ruby": "Other",
        "script": "ScriptMagics",
        "sh": "Other",
        "svg": "DisplayMagics",
        "sx": "OSMagics",
        "system": "OSMagics",
        "time": "ExecutionMagics",
        "timeit": "ExecutionMagics",
        "writefile": "OSMagics"
       },
       "line": {
        "alias": "OSMagics",
        "alias_magic": "BasicMagics",
        "autoawait": "AsyncMagics",
        "autocall": "AutoMagics",
        "automagic": "AutoMagics",
        "autosave": "KernelMagics",
        "bookmark": "OSMagics",
        "cd": "OSMagics",
        "clear": "KernelMagics",
        "cls": "KernelMagics",
        "colors": "BasicMagics",
        "conda": "PackagingMagics",
        "config": "ConfigMagics",
        "connect_info": "KernelMagics",
        "copy": "Other",
        "ddir": "Other",
        "debug": "ExecutionMagics",
        "dhist": "OSMagics",
        "dirs": "OSMagics",
        "doctest_mode": "BasicMagics",
        "echo": "Other",
        "ed": "Other",
        "edit": "KernelMagics",
        "env": "OSMagics",
        "gui": "BasicMagics",
        "hist": "Other",
        "history": "HistoryMagics",
        "killbgscripts": "ScriptMagics",
        "ldir": "Other",
        "less": "KernelMagics",
        "load": "CodeMagics",
        "load_ext": "ExtensionMagics",
        "loadpy": "CodeMagics",
        "logoff": "LoggingMagics",
        "logon": "LoggingMagics",
        "logstart": "LoggingMagics",
        "logstate": "LoggingMagics",
        "logstop": "LoggingMagics",
        "ls": "Other",
        "lsmagic": "BasicMagics",
        "macro": "ExecutionMagics",
        "magic": "BasicMagics",
        "matplotlib": "PylabMagics",
        "mkdir": "Other",
        "more": "KernelMagics",
        "notebook": "BasicMagics",
        "page": "BasicMagics",
        "pastebin": "CodeMagics",
        "pdb": "ExecutionMagics",
        "pdef": "NamespaceMagics",
        "pdoc": "NamespaceMagics",
        "pfile": "NamespaceMagics",
        "pinfo": "NamespaceMagics",
        "pinfo2": "NamespaceMagics",
        "pip": "PackagingMagics",
        "popd": "OSMagics",
        "pprint": "BasicMagics",
        "precision": "BasicMagics",
        "prun": "ExecutionMagics",
        "psearch": "NamespaceMagics",
        "psource": "NamespaceMagics",
        "pushd": "OSMagics",
        "pwd": "OSMagics",
        "pycat": "OSMagics",
        "pylab": "PylabMagics",
        "qtconsole": "KernelMagics",
        "quickref": "BasicMagics",
        "recall": "HistoryMagics",
        "rehashx": "OSMagics",
        "reload_ext": "ExtensionMagics",
        "ren": "Other",
        "rep": "Other",
        "rerun": "HistoryMagics",
        "reset": "NamespaceMagics",
        "reset_selective": "NamespaceMagics",
        "rmdir": "Other",
        "run": "ExecutionMagics",
        "save": "CodeMagics",
        "sc": "OSMagics",
        "set_env": "OSMagics",
        "store": "StoreMagics",
        "sx": "OSMagics",
        "system": "OSMagics",
        "tb": "ExecutionMagics",
        "time": "ExecutionMagics",
        "timeit": "ExecutionMagics",
        "unalias": "OSMagics",
        "unload_ext": "ExtensionMagics",
        "who": "NamespaceMagics",
        "who_ls": "NamespaceMagics",
        "whos": "NamespaceMagics",
        "xdel": "NamespaceMagics",
        "xmode": "BasicMagics"
       }
      },
      "text/plain": [
       "Available line magics:\n",
       "%alias  %alias_magic  %autoawait  %autocall  %automagic  %autosave  %bookmark  %cd  %clear  %cls  %colors  %conda  %config  %connect_info  %copy  %ddir  %debug  %dhist  %dirs  %doctest_mode  %echo  %ed  %edit  %env  %gui  %hist  %history  %killbgscripts  %ldir  %less  %load  %load_ext  %loadpy  %logoff  %logon  %logstart  %logstate  %logstop  %ls  %lsmagic  %macro  %magic  %matplotlib  %mkdir  %more  %notebook  %page  %pastebin  %pdb  %pdef  %pdoc  %pfile  %pinfo  %pinfo2  %pip  %popd  %pprint  %precision  %prun  %psearch  %psource  %pushd  %pwd  %pycat  %pylab  %qtconsole  %quickref  %recall  %rehashx  %reload_ext  %ren  %rep  %rerun  %reset  %reset_selective  %rmdir  %run  %save  %sc  %set_env  %store  %sx  %system  %tb  %time  %timeit  %unalias  %unload_ext  %who  %who_ls  %whos  %xdel  %xmode\n",
       "\n",
       "Available cell magics:\n",
       "%%!  %%HTML  %%SVG  %%bash  %%capture  %%cmd  %%debug  %%file  %%html  %%javascript  %%js  %%latex  %%markdown  %%perl  %%prun  %%pypy  %%python  %%python2  %%python3  %%ruby  %%script  %%sh  %%svg  %%sx  %%system  %%time  %%timeit  %%writefile\n",
       "\n",
       "Automagic is ON, % prefix IS NOT needed for line magics."
      ]
     },
     "execution_count": 2,
     "metadata": {},
     "output_type": "execute_result"
    }
   ],
   "source": [
    "%lsmagic"
   ]
  },
  {
   "cell_type": "markdown",
   "metadata": {},
   "source": [
    "# List all enviorment variables"
   ]
  },
  {
   "cell_type": "code",
   "execution_count": 3,
   "metadata": {},
   "outputs": [
    {
     "data": {
      "text/plain": [
       "{'ALLUSERSPROFILE': 'C:\\\\ProgramData',\n",
       " 'APPDATA': 'C:\\\\Users\\\\parag\\\\AppData\\\\Roaming',\n",
       " 'COMMONPROGRAMFILES': 'C:\\\\Program Files\\\\Common Files',\n",
       " 'COMMONPROGRAMFILES(X86)': 'C:\\\\Program Files (x86)\\\\Common Files',\n",
       " 'COMMONPROGRAMW6432': 'C:\\\\Program Files\\\\Common Files',\n",
       " 'COMPUTERNAME': 'DESKTOP-G4EDIN7',\n",
       " 'COMSPEC': 'C:\\\\Windows\\\\system32\\\\cmd.exe',\n",
       " 'DRIVERDATA': 'C:\\\\Windows\\\\System32\\\\Drivers\\\\DriverData',\n",
       " 'FPS_BROWSER_APP_PROFILE_STRING': 'Internet Explorer',\n",
       " 'FPS_BROWSER_USER_PROFILE_STRING': 'Default',\n",
       " 'HOMEDRIVE': 'C:',\n",
       " 'HOMEPATH': '\\\\Users\\\\parag',\n",
       " 'LOCALAPPDATA': 'C:\\\\Users\\\\parag\\\\AppData\\\\Local',\n",
       " 'LOGONSERVER': '\\\\\\\\DESKTOP-G4EDIN7',\n",
       " 'NUMBER_OF_PROCESSORS': '4',\n",
       " 'ONEDRIVE': 'C:\\\\Users\\\\parag\\\\OneDrive',\n",
       " 'ONEDRIVECONSUMER': 'C:\\\\Users\\\\parag\\\\OneDrive',\n",
       " 'OS': 'Windows_NT',\n",
       " 'PATH': 'C:\\\\Users\\\\parag\\\\AppData\\\\Local\\\\Continuum\\\\anaconda3;C:\\\\Users\\\\parag\\\\AppData\\\\Local\\\\Continuum\\\\anaconda3\\\\Library\\\\mingw-w64\\\\bin;C:\\\\Users\\\\parag\\\\AppData\\\\Local\\\\Continuum\\\\anaconda3\\\\Library\\\\usr\\\\bin;C:\\\\Users\\\\parag\\\\AppData\\\\Local\\\\Continuum\\\\anaconda3\\\\Library\\\\bin;C:\\\\Users\\\\parag\\\\AppData\\\\Local\\\\Continuum\\\\anaconda3\\\\Scripts;C:\\\\Windows\\\\system32;C:\\\\Windows;C:\\\\Windows\\\\System32\\\\Wbem;C:\\\\Windows\\\\System32\\\\WindowsPowerShell\\\\v1.0\\\\;C:\\\\Windows\\\\System32\\\\OpenSSH\\\\;C:\\\\Users\\\\parag\\\\AppData\\\\Local\\\\Microsoft\\\\WindowsApps;',\n",
       " 'PATHEXT': '.COM;.EXE;.BAT;.CMD;.VBS;.VBE;.JS;.JSE;.WSF;.WSH;.MSC',\n",
       " 'PROCESSOR_ARCHITECTURE': 'AMD64',\n",
       " 'PROCESSOR_IDENTIFIER': 'Intel64 Family 6 Model 69 Stepping 1, GenuineIntel',\n",
       " 'PROCESSOR_LEVEL': '6',\n",
       " 'PROCESSOR_REVISION': '4501',\n",
       " 'PROGRAMDATA': 'C:\\\\ProgramData',\n",
       " 'PROGRAMFILES': 'C:\\\\Program Files',\n",
       " 'PROGRAMFILES(X86)': 'C:\\\\Program Files (x86)',\n",
       " 'PROGRAMW6432': 'C:\\\\Program Files',\n",
       " 'PSMODULEPATH': 'C:\\\\Program Files\\\\WindowsPowerShell\\\\Modules;C:\\\\Windows\\\\system32\\\\WindowsPowerShell\\\\v1.0\\\\Modules',\n",
       " 'PUBLIC': 'C:\\\\Users\\\\Public',\n",
       " 'SESSIONNAME': 'Console',\n",
       " 'SYNAPROGDIR': 'Synaptics\\\\SynTP',\n",
       " 'SYSTEMDRIVE': 'C:',\n",
       " 'SYSTEMROOT': 'C:\\\\Windows',\n",
       " 'TEMP': 'C:\\\\Users\\\\parag\\\\AppData\\\\Local\\\\Temp',\n",
       " 'TMP': 'C:\\\\Users\\\\parag\\\\AppData\\\\Local\\\\Temp',\n",
       " 'USERDOMAIN': 'DESKTOP-G4EDIN7',\n",
       " 'USERDOMAIN_ROAMINGPROFILE': 'DESKTOP-G4EDIN7',\n",
       " 'USERNAME': 'parag',\n",
       " 'USERPROFILE': 'C:\\\\Users\\\\parag',\n",
       " 'VBOX_MSI_INSTALL_PATH': 'C:\\\\Program Files\\\\Oracle\\\\VirtualBox\\\\',\n",
       " 'WINDIR': 'C:\\\\Windows',\n",
       " 'CONDA_PREFIX': 'C:\\\\Users\\\\parag\\\\AppData\\\\Local\\\\Continuum\\\\anaconda3',\n",
       " 'KERNEL_LAUNCH_TIMEOUT': '40',\n",
       " 'JPY_INTERRUPT_EVENT': '2844',\n",
       " 'IPY_INTERRUPT_EVENT': '2844',\n",
       " 'JPY_PARENT_PID': '2852',\n",
       " 'TERM': 'xterm-color',\n",
       " 'CLICOLOR': '1',\n",
       " 'PAGER': 'cat',\n",
       " 'GIT_PAGER': 'cat',\n",
       " 'MPLBACKEND': 'module://ipykernel.pylab.backend_inline'}"
      ]
     },
     "execution_count": 3,
     "metadata": {},
     "output_type": "execute_result"
    }
   ],
   "source": [
    "%env"
   ]
  },
  {
   "cell_type": "code",
   "execution_count": 5,
   "metadata": {},
   "outputs": [
    {
     "name": "stdout",
     "output_type": "stream",
     "text": [
      "env: OMP_NUM_THREADS=4\n"
     ]
    }
   ],
   "source": [
    "%env OMP_NUM_THREADS=4"
   ]
  },
  {
   "cell_type": "markdown",
   "metadata": {},
   "source": [
    "# Excute a python code"
   ]
  },
  {
   "cell_type": "code",
   "execution_count": 7,
   "metadata": {},
   "outputs": [
    {
     "name": "stdout",
     "output_type": "stream",
     "text": [
      "enter any integer10\n",
      "number is even\n"
     ]
    }
   ],
   "source": [
    "%run example1.py"
   ]
  },
  {
   "cell_type": "code",
   "execution_count": 9,
   "metadata": {},
   "outputs": [
    {
     "name": "stdout",
     "output_type": "stream",
     "text": [
      "Enter any Integer123\n",
      "6\n"
     ]
    }
   ],
   "source": [
    "%run ./example2.ipynb"
   ]
  },
  {
   "cell_type": "markdown",
   "metadata": {},
   "source": [
    "# Load code from external script "
   ]
  },
  {
   "cell_type": "code",
   "execution_count": 14,
   "metadata": {},
   "outputs": [
    {
     "name": "stdout",
     "output_type": "stream",
     "text": [
      "Enter any Integer123\n",
      "321\n"
     ]
    }
   ],
   "source": [
    "# %load example3.py\n",
    "num = int (input(\"Enter any Integer\"))\n",
    "sum = 0\n",
    "while num > 0:\n",
    "    sum = sum * 10  + (num % 10)\n",
    "    num =int( num / 10)\n",
    "\n",
    "print(sum)"
   ]
  },
  {
   "cell_type": "markdown",
   "metadata": {},
   "source": [
    "# Pass the variables between different notebooks"
   ]
  },
  {
   "cell_type": "code",
   "execution_count": 16,
   "metadata": {},
   "outputs": [
    {
     "name": "stdout",
     "output_type": "stream",
     "text": [
      "Stored 'str1' (str)\n"
     ]
    }
   ],
   "source": [
    "str1 = \"This string is to be passed to another python notebook\"\n",
    "%store str1\n",
    "del str1"
   ]
  },
  {
   "cell_type": "code",
   "execution_count": 36,
   "metadata": {
    "ExecuteTime": {
     "end_time": "2020-01-02T05:24:45.628755Z",
     "start_time": "2020-01-02T05:24:45.603765Z"
    }
   },
   "outputs": [
    {
     "name": "stdout",
     "output_type": "stream",
     "text": [
      "Stored 'var1' (int)\n",
      "Stored 'var2' (int)\n",
      "Stored 'var3' (int)\n"
     ]
    }
   ],
   "source": [
    "var1 = 5;\n",
    "var2 = 2;\n",
    "var3 = 3;\n",
    "%store var1 \n",
    "%store var2 \n",
    "%store var3"
   ]
  },
  {
   "cell_type": "markdown",
   "metadata": {},
   "source": [
    "# Displaying image inside notebook"
   ]
  },
  {
   "cell_type": "code",
   "execution_count": 4,
   "metadata": {},
   "outputs": [],
   "source": [
    "%matplotlib inline\n",
    "import matplotlib.pyplot as plt"
   ]
  },
  {
   "cell_type": "code",
   "execution_count": 5,
   "metadata": {},
   "outputs": [],
   "source": [
    "import cv2\n",
    "image = cv2.imread(\"C:/Users/parag/Desktop/j3.jpg\")"
   ]
  },
  {
   "cell_type": "code",
   "execution_count": 6,
   "metadata": {},
   "outputs": [
    {
     "data": {
      "text/plain": [
       "<matplotlib.image.AxesImage at 0x15ad22339c8>"
      ]
     },
     "execution_count": 6,
     "metadata": {},
     "output_type": "execute_result"
    },
    {
     "data": {
      "image/png": "[encoded data removed]",
      "text/plain": [
       "<Figure size 432x288 with 1 Axes>"
      ]
     },
     "metadata": {
      "needs_background": "light"
     },
     "output_type": "display_data"
    }
   ],
   "source": [
    "plt.imshow(image)"
   ]
  },
  {
   "cell_type": "markdown",
   "metadata": {},
   "source": [
    "# List all the variable with global scope"
   ]
  },
  {
   "cell_type": "code",
   "execution_count": 20,
   "metadata": {},
   "outputs": [],
   "source": [
    "str2 = \"parag\"\n",
    "str3 = \"dhawan\""
   ]
  },
  {
   "cell_type": "code",
   "execution_count": 21,
   "metadata": {},
   "outputs": [
    {
     "name": "stdout",
     "output_type": "stream",
     "text": [
      "str2\t str3\t \n"
     ]
    }
   ],
   "source": [
    "%who str"
   ]
  },
  {
   "cell_type": "markdown",
   "metadata": {},
   "source": [
    "# To show the content of external file "
   ]
  },
  {
   "cell_type": "code",
   "execution_count": 27,
   "metadata": {},
   "outputs": [],
   "source": [
    "%pycat example1.py"
   ]
  },
  {
   "cell_type": "markdown",
   "metadata": {},
   "source": [
    "# Show how much time your program spent in each function"
   ]
  },
  {
   "cell_type": "code",
   "execution_count": 41,
   "metadata": {},
   "outputs": [],
   "source": [
    "def function():\n",
    "    i = 1000\n",
    "    sum = 0\n",
    "    while i > 0 :\n",
    "        i = i - 1\n",
    "        sum = sum + i\n",
    "    print(sum)"
   ]
  },
  {
   "cell_type": "code",
   "execution_count": 42,
   "metadata": {},
   "outputs": [
    {
     "name": "stdout",
     "output_type": "stream",
     "text": [
      "499500\n",
      " "
     ]
    }
   ],
   "source": [
    "%prun function()"
   ]
  },
  {
   "cell_type": "markdown",
   "metadata": {},
   "source": [
    "# Define an alias for a system command"
   ]
  },
  {
   "cell_type": "code",
   "execution_count": 2,
   "metadata": {
    "ExecuteTime": {
     "end_time": "2020-01-02T04:34:49.944657Z",
     "start_time": "2020-01-02T04:34:49.937661Z"
    }
   },
   "outputs": [],
   "source": [
    "%alias welcome echo \"this is magic command tutorial\""
   ]
  },
  {
   "cell_type": "code",
   "execution_count": 3,
   "metadata": {
    "ExecuteTime": {
     "end_time": "2020-01-02T04:35:09.969427Z",
     "start_time": "2020-01-02T04:35:09.169463Z"
    }
   },
   "outputs": [
    {
     "name": "stdout",
     "output_type": "stream",
     "text": [
      "\"this is magic command tutorial\" \n"
     ]
    }
   ],
   "source": [
    "welcome "
   ]
  },
  {
   "cell_type": "markdown",
   "metadata": {},
   "source": [
    "# Create an alias for an existing line or cell magic"
   ]
  },
  {
   "cell_type": "code",
   "execution_count": 9,
   "metadata": {},
   "outputs": [
    {
     "name": "stdout",
     "output_type": "stream",
     "text": [
      "Created `%%h` as an alias for `%%html`.\n"
     ]
    }
   ],
   "source": [
    "%alias_magic h html"
   ]
  },
  {
   "cell_type": "code",
   "execution_count": 10,
   "metadata": {},
   "outputs": [
    {
     "data": {
      "text/html": [
       "<img src=\"https://i2.wp.com/softwareengineeringdaily.com/wp-content/uploads/2018/07/jupyter-logo-featured-image.png?fit=600%2C315&ssl=1\" alt=\"Italian Trulli\">\n"
      ],
      "text/plain": [
       "<IPython.core.display.HTML object>"
      ]
     },
     "metadata": {},
     "output_type": "display_data"
    }
   ],
   "source": [
    "%%h\n",
    "<img src=\"https://i2.wp.com/softwareengineeringdaily.com/wp-content/uploads/2018/07/jupyter-logo-featured-image.png?fit=600%2C315&ssl=1\" alt=\"Italian Trulli\">"
   ]
  },
  {
   "cell_type": "markdown",
   "metadata": {},
   "source": [
    "# Make magic functions callable without having to type the initial %."
   ]
  },
  {
   "cell_type": "code",
   "execution_count": 16,
   "metadata": {},
   "outputs": [
    {
     "name": "stdout",
     "output_type": "stream",
     "text": [
      "\n",
      "Automagic is OFF, % prefix IS needed for line magics.\n"
     ]
    }
   ],
   "source": [
    "%automagic 0"
   ]
  },
  {
   "cell_type": "code",
   "execution_count": 39,
   "metadata": {
    "ExecuteTime": {
     "end_time": "2020-01-02T04:38:35.968405Z",
     "start_time": "2020-01-02T04:38:35.959406Z"
    }
   },
   "outputs": [
    {
     "name": "stdout",
     "output_type": "stream",
     "text": [
      "\n",
      "Automagic is ON, % prefix IS NOT needed for line magics.\n"
     ]
    }
   ],
   "source": [
    "%automagic 1\n"
   ]
  },
  {
   "cell_type": "code",
   "execution_count": 17,
   "metadata": {},
   "outputs": [
    {
     "ename": "NameError",
     "evalue": "name 'pwd' is not defined",
     "output_type": "error",
     "traceback": [
      "\u001b[1;31m---------------------------------------------------------------------------\u001b[0m",
      "\u001b[1;31mNameError\u001b[0m                                 Traceback (most recent call last)",
      "\u001b[1;32m<ipython-input-17-86938b1e80ee>\u001b[0m in \u001b[0;36m<module>\u001b[1;34m\u001b[0m\n\u001b[1;32m----> 1\u001b[1;33m \u001b[0mpwd\u001b[0m\u001b[1;33m\u001b[0m\u001b[1;33m\u001b[0m\u001b[0m\n\u001b[0m",
      "\u001b[1;31mNameError\u001b[0m: name 'pwd' is not defined"
     ]
    }
   ],
   "source": [
    "pwd"
   ]
  },
  {
   "cell_type": "code",
   "execution_count": 18,
   "metadata": {
    "scrolled": true
   },
   "outputs": [
    {
     "ename": "NameError",
     "evalue": "name 'ls' is not defined",
     "output_type": "error",
     "traceback": [
      "\u001b[1;31m---------------------------------------------------------------------------\u001b[0m",
      "\u001b[1;31mNameError\u001b[0m                                 Traceback (most recent call last)",
      "\u001b[1;32m<ipython-input-18-023cc93272e5>\u001b[0m in \u001b[0;36m<module>\u001b[1;34m\u001b[0m\n\u001b[1;32m----> 1\u001b[1;33m \u001b[0mls\u001b[0m\u001b[1;33m\u001b[0m\u001b[1;33m\u001b[0m\u001b[0m\n\u001b[0m",
      "\u001b[1;31mNameError\u001b[0m: name 'ls' is not defined"
     ]
    }
   ],
   "source": [
    "ls"
   ]
  },
  {
   "cell_type": "markdown",
   "metadata": {},
   "source": [
    "# Set the autosave interval in the notebook (in seconds)"
   ]
  },
  {
   "cell_type": "code",
   "execution_count": 26,
   "metadata": {},
   "outputs": [
    {
     "data": {
      "application/javascript": [
       "IPython.notebook.set_autosave_interval(60000)"
      ]
     },
     "metadata": {},
     "output_type": "display_data"
    },
    {
     "name": "stdout",
     "output_type": "stream",
     "text": [
      "Autosaving every 60 seconds\n"
     ]
    }
   ],
   "source": [
    "%autosave 60"
   ]
  },
  {
   "cell_type": "code",
   "execution_count": 22,
   "metadata": {},
   "outputs": [
    {
     "data": {
      "application/javascript": [
       "IPython.notebook.set_autosave_interval(0)"
      ]
     },
     "metadata": {},
     "output_type": "display_data"
    },
    {
     "name": "stdout",
     "output_type": "stream",
     "text": [
      "Autosave disabled\n"
     ]
    }
   ],
   "source": [
    "%autosave 0"
   ]
  },
  {
   "cell_type": "code",
   "execution_count": 24,
   "metadata": {},
   "outputs": [],
   "source": [
    "%bookmark current\n"
   ]
  },
  {
   "cell_type": "code",
   "execution_count": 29,
   "metadata": {
    "scrolled": true
   },
   "outputs": [
    {
     "name": "stdout",
     "output_type": "stream",
     "text": [
      "C:\\Users\\parag\\Desktop\n"
     ]
    }
   ],
   "source": [
    "cd Desktop"
   ]
  },
  {
   "cell_type": "code",
   "execution_count": 30,
   "metadata": {
    "ExecuteTime": {
     "end_time": "2020-01-02T04:41:45.461111Z",
     "start_time": "2020-01-02T04:41:45.448129Z"
    }
   },
   "outputs": [
    {
     "name": "stdout",
     "output_type": "stream",
     "text": [
      "(bookmark:current) -> C:\\Users\\parag\n",
      "C:\\Users\\parag\n"
     ]
    }
   ],
   "source": [
    "cd current"
   ]
  },
  {
   "cell_type": "code",
   "execution_count": 31,
   "metadata": {},
   "outputs": [
    {
     "name": "stdout",
     "output_type": "stream",
     "text": [
      "Current bookmarks:\n",
      "current -> C:\\Users\\parag\n"
     ]
    }
   ],
   "source": [
    "%bookmark -l"
   ]
  },
  {
   "cell_type": "code",
   "execution_count": 32,
   "metadata": {},
   "outputs": [],
   "source": [
    "%bookmark -d current"
   ]
  },
  {
   "cell_type": "code",
   "execution_count": 33,
   "metadata": {},
   "outputs": [
    {
     "name": "stdout",
     "output_type": "stream",
     "text": [
      "[WinError 2] The system cannot find the file specified: 'current'\n",
      "C:\\Users\\parag\n"
     ]
    }
   ],
   "source": [
    "%cd current"
   ]
  },
  {
   "cell_type": "code",
   "execution_count": 34,
   "metadata": {},
   "outputs": [],
   "source": [
    "%bookmark -r"
   ]
  },
  {
   "cell_type": "code",
   "execution_count": 41,
   "metadata": {
    "scrolled": true
   },
   "outputs": [
    {
     "name": "stdout",
     "output_type": "stream",
     "text": [
      " Volume in drive C has no label.\n",
      " Volume Serial Number is 984E-4602\n",
      "\n",
      " Directory of C:\\Users\\parag\n",
      "\n",
      "09-01-2020  03:51    <DIR>          .\n",
      "09-01-2020  03:51    <DIR>          ..\n",
      "26-11-2019  18:15    <DIR>          .anaconda\n",
      "09-01-2020  00:37             2,021 .bash_history\n",
      "21-12-2019  06:27    <DIR>          .conda\n",
      "21-12-2019  06:24                43 .condarc\n",
      "06-12-2019  23:19    <DIR>          .config\n",
      "15-12-2019  21:32               187 .gitconfig\n",
      "08-01-2020  10:31    <DIR>          .ipynb_checkpoints\n",
      "26-11-2019  18:27    <DIR>          .ipython\n",
      "21-12-2019  06:32    <DIR>          .jupyter\n",
      "30-11-2019  14:14    <DIR>          .matplotlib\n",
      "01-12-2019  05:27    <DIR>          .openshot_qt\n",
      "18-12-2019  06:30             1,060 .viminfo\n",
      "04-12-2019  10:18    <DIR>          .VirtualBox\n",
      "16-12-2019  09:10            25,815 123.jpg\n",
      "26-11-2019  16:47    <DIR>          3D Objects\n",
      "08-01-2020  13:06            18,940 cell magic commands.ipynb\n",
      "21-12-2019  00:33             2,047 code and codeblock.ipynb\n",
      "26-11-2019  16:47    <DIR>          Contacts\n",
      "09-01-2020  01:33    <DIR>          Desktop\n",
      "30-12-2019  07:18    <DIR>          Documents\n",
      "09-01-2020  00:05    <DIR>          Downloads\n",
      "26-11-2019  16:47    <DIR>          Favorites\n",
      "08-01-2020  10:28            22,217 final cell magic commands.ipynb\n",
      "16-12-2019  09:06            10,507 images.jfif\n",
      "19-12-2019  13:41               940 inserting mathematical equation inside jupyter notebook.ipynb\n",
      "26-11-2019  16:47    <DIR>          Links\n",
      "01-01-2020  20:46    <DIR>          magic\n",
      "09-01-2020  03:51            44,671 magic-1.ipynb\n",
      "01-01-2020  21:26             2,918 magic-2.ipynb\n",
      "19-12-2019  10:30               664 Markdown tutorial part-2.ipynb\n",
      "26-11-2019  16:47    <DIR>          Music\n",
      "08-01-2020  12:14                40 nomane.py\n",
      "26-11-2019  16:56    <DIR>          OneDrive\n",
      "07-01-2020  11:55                75 parag.py\n",
      "26-11-2019  16:51    <DIR>          Pictures\n",
      "08-01-2020  07:54               297 prime.py\n",
      "08-01-2020  12:13               254 prime1.py\n",
      "08-01-2020  07:50               314 primenumber.py\n",
      "26-11-2019  16:47    <DIR>          Saved Games\n",
      "26-11-2019  16:49    <DIR>          Searches\n",
      "15-12-2019  21:46           837,997 shortcuts2.ipynb\n",
      "08-01-2020  10:33             1,471 Untitled.ipynb\n",
      "25-12-2019  10:50                 0 untitled.txt\n",
      "07-01-2020  13:43            28,040 Untitled6.ipynb\n",
      "02-01-2020  10:55    <DIR>          Videos\n",
      "01-12-2019  05:53    <DIR>          VirtualBox VMs\n",
      "              22 File(s)      1,000,518 bytes\n",
      "              26 Dir(s)  57,334,894,592 bytes free\n"
     ]
    }
   ],
   "source": [
    "%ls\n",
    "\n"
   ]
  },
  {
   "cell_type": "code",
   "execution_count": 42,
   "metadata": {
    "ExecuteTime": {
     "end_time": "2020-01-02T04:41:59.499947Z",
     "start_time": "2020-01-02T04:41:59.482955Z"
    }
   },
   "outputs": [
    {
     "name": "stdout",
     "output_type": "stream",
     "text": [
      "C:\\Users\\parag\\Desktop\n"
     ]
    }
   ],
   "source": [
    "%cd Desktop"
   ]
  },
  {
   "cell_type": "code",
   "execution_count": 43,
   "metadata": {},
   "outputs": [
    {
     "name": "stdout",
     "output_type": "stream",
     "text": [
      "C:\\Users\\parag\\Desktop\\jupyternotebook\n"
     ]
    }
   ],
   "source": [
    "%cd jupyternotebook"
   ]
  },
  {
   "cell_type": "code",
   "execution_count": 44,
   "metadata": {},
   "outputs": [
    {
     "name": "stdout",
     "output_type": "stream",
     "text": [
      " Volume in drive C has no label.\n",
      " Volume Serial Number is 984E-4602\n",
      "\n",
      " Directory of C:\\Users\\parag\\Desktop\\jupyternotebook\n",
      "\n",
      "09-01-2020  00:21    <DIR>          .\n",
      "09-01-2020  00:21    <DIR>          ..\n",
      "23-12-2019  13:00    <DIR>          .ipynb_checkpoints\n",
      "07-12-2019  04:35            56,191 2.jfif\n",
      "08-01-2020  13:06            18,940 cell magic commands.ipynb\n",
      "21-12-2019  01:18             2,047 code_and_codeblock.ipynb\n",
      "02-01-2020  06:33            13,410 Demoshell.ipynb\n",
      "15-12-2019  18:56             8,693 download.jfif\n",
      "15-12-2019  21:16            73,903 j6.jpg\n",
      "29-12-2019  12:05           211,095 jupyter notebook extensions.ipynb\n",
      "23-12-2019  11:11            53,149 m1t.jpg\n",
      "23-12-2019  11:11             2,588 m2template.jpg\n",
      "23-12-2019  04:09            10,242 Markdown_Part1.ipynb\n",
      "18-12-2019  06:48           116,162 ReadinganddisplayingImageusingopencv.ipynb\n",
      "18-12-2019  06:28                17 README.md\n",
      "23-12-2019  03:46           841,350 shortcuts2.ipynb\n",
      "15-12-2019  20:54           837,881 To_do_list.ipynb\n",
      "23-12-2019  12:57                72 Untitled.ipynb\n",
      "23-12-2019  13:02             1,683 Untitled1.ipynb\n",
      "              16 File(s)      2,247,423 bytes\n",
      "               3 Dir(s)  57,334,693,888 bytes free\n"
     ]
    }
   ],
   "source": [
    "%ls"
   ]
  },
  {
   "cell_type": "markdown",
   "metadata": {},
   "source": [
    "# Print your history of visited directories"
   ]
  },
  {
   "cell_type": "code",
   "execution_count": 3,
   "metadata": {},
   "outputs": [
    {
     "name": "stdout",
     "output_type": "stream",
     "text": [
      "Directory history (kept in _dh)\n",
      "0: C:\\Users\\parag\n"
     ]
    }
   ],
   "source": [
    "%dhist"
   ]
  },
  {
   "cell_type": "code",
   "execution_count": 9,
   "metadata": {
    "ExecuteTime": {
     "end_time": "2020-01-02T04:42:08.000403Z",
     "start_time": "2020-01-02T04:42:07.991409Z"
    }
   },
   "outputs": [
    {
     "data": {
      "text/plain": [
       "'C:\\\\Users\\\\parag'"
      ]
     },
     "execution_count": 9,
     "metadata": {},
     "output_type": "execute_result"
    }
   ],
   "source": [
    "%pwd "
   ]
  },
  {
   "cell_type": "code",
   "execution_count": 10,
   "metadata": {
    "ExecuteTime": {
     "end_time": "2020-01-02T04:46:25.123948Z",
     "start_time": "2020-01-02T04:46:24.523875Z"
    }
   },
   "outputs": [],
   "source": [
    "%mkdir magic "
   ]
  },
  {
   "cell_type": "code",
   "execution_count": 11,
   "metadata": {
    "ExecuteTime": {
     "end_time": "2020-01-02T04:46:42.492971Z",
     "start_time": "2020-01-02T04:46:42.457991Z"
    }
   },
   "outputs": [
    {
     "name": "stdout",
     "output_type": "stream",
     "text": [
      "C:\\Users\\parag\\magic\n"
     ]
    }
   ],
   "source": [
    "%cd magic "
   ]
  },
  {
   "cell_type": "code",
   "execution_count": 12,
   "metadata": {
    "ExecuteTime": {
     "end_time": "2020-01-02T04:55:40.381925Z",
     "start_time": "2020-01-02T04:55:39.820461Z"
    }
   },
   "outputs": [
    {
     "name": "stdout",
     "output_type": "stream",
     "text": [
      "C:\\Users\\parag\n"
     ]
    }
   ],
   "source": [
    "%cd .. "
   ]
  },
  {
   "cell_type": "code",
   "execution_count": 13,
   "metadata": {
    "ExecuteTime": {
     "end_time": "2020-01-02T04:55:56.298820Z",
     "start_time": "2020-01-02T04:55:56.288822Z"
    }
   },
   "outputs": [
    {
     "name": "stdout",
     "output_type": "stream",
     "text": [
      "C:\\Users\\parag\\Desktop\n"
     ]
    }
   ],
   "source": [
    "%cd Desktop/"
   ]
  },
  {
   "cell_type": "code",
   "execution_count": 14,
   "metadata": {
    "ExecuteTime": {
     "end_time": "2020-01-02T04:56:11.164889Z",
     "start_time": "2020-01-02T04:56:10.937916Z"
    }
   },
   "outputs": [
    {
     "data": {
      "text/plain": [
       "'C:\\\\Users\\\\parag\\\\Desktop'"
      ]
     },
     "execution_count": 14,
     "metadata": {},
     "output_type": "execute_result"
    }
   ],
   "source": [
    "%pwd "
   ]
  },
  {
   "cell_type": "code",
   "execution_count": 15,
   "metadata": {
    "ExecuteTime": {
     "end_time": "2020-01-02T04:56:36.105503Z",
     "start_time": "2020-01-02T04:56:35.105609Z"
    }
   },
   "outputs": [],
   "source": [
    "%mkdir magictute "
   ]
  },
  {
   "cell_type": "code",
   "execution_count": 17,
   "metadata": {
    "ExecuteTime": {
     "end_time": "2020-01-02T04:56:59.167839Z",
     "start_time": "2020-01-02T04:56:59.157840Z"
    }
   },
   "outputs": [
    {
     "name": "stdout",
     "output_type": "stream",
     "text": [
      "C:\\Users\\parag\\Desktop\\magictute\n"
     ]
    }
   ],
   "source": [
    "%cd magictute"
   ]
  },
  {
   "cell_type": "code",
   "execution_count": 18,
   "metadata": {
    "ExecuteTime": {
     "end_time": "2020-01-02T04:57:12.612650Z",
     "start_time": "2020-01-02T04:57:12.604655Z"
    }
   },
   "outputs": [
    {
     "data": {
      "text/plain": [
       "'C:\\\\Users\\\\parag\\\\Desktop\\\\magictute'"
      ]
     },
     "execution_count": 18,
     "metadata": {},
     "output_type": "execute_result"
    }
   ],
   "source": [
    "%pwd"
   ]
  },
  {
   "cell_type": "code",
   "execution_count": 19,
   "metadata": {
    "ExecuteTime": {
     "end_time": "2020-01-02T04:57:21.263494Z",
     "start_time": "2020-01-02T04:57:21.255494Z"
    }
   },
   "outputs": [
    {
     "data": {
      "text/plain": [
       "'C:\\\\Users\\\\parag\\\\Desktop\\\\magictute'"
      ]
     },
     "execution_count": 19,
     "metadata": {},
     "output_type": "execute_result"
    }
   ],
   "source": [
    "%pwd"
   ]
  },
  {
   "cell_type": "code",
   "execution_count": 20,
   "metadata": {
    "ExecuteTime": {
     "end_time": "2020-01-02T04:57:24.974130Z",
     "start_time": "2020-01-02T04:57:24.966135Z"
    }
   },
   "outputs": [
    {
     "data": {
      "text/plain": [
       "'C:\\\\Users\\\\parag\\\\Desktop\\\\magictute'"
      ]
     },
     "execution_count": 20,
     "metadata": {},
     "output_type": "execute_result"
    }
   ],
   "source": [
    "pwd "
   ]
  },
  {
   "cell_type": "code",
   "execution_count": 21,
   "metadata": {
    "ExecuteTime": {
     "end_time": "2020-01-02T05:03:40.371366Z",
     "start_time": "2020-01-02T05:03:39.760658Z"
    }
   },
   "outputs": [
    {
     "name": "stdout",
     "output_type": "stream",
     "text": [
      " Volume in drive C has no label.\n",
      " Volume Serial Number is 984E-4602\n",
      "\n",
      " Directory of C:\\Users\\parag\\Desktop\\magictute\n",
      "\n",
      "01-01-2020  21:03    <DIR>          .\n",
      "01-01-2020  21:03    <DIR>          ..\n",
      "01-01-2020  21:03                50 friend.py\n",
      "01-01-2020  21:02                50 friend.txt\n",
      "               2 File(s)            100 bytes\n",
      "               2 Dir(s)  56,882,200,576 bytes free\n"
     ]
    }
   ],
   "source": [
    "%ls "
   ]
  },
  {
   "cell_type": "code",
   "execution_count": 22,
   "metadata": {
    "ExecuteTime": {
     "end_time": "2020-01-02T05:04:24.613005Z",
     "start_time": "2020-01-02T05:04:24.574958Z"
    }
   },
   "outputs": [],
   "source": [
    "%pycat friend.py \n"
   ]
  },
  {
   "cell_type": "code",
   "execution_count": 24,
   "metadata": {
    "ExecuteTime": {
     "end_time": "2020-01-02T05:07:49.464515Z",
     "start_time": "2020-01-02T05:07:49.422542Z"
    }
   },
   "outputs": [],
   "source": [
    "# %load friend.py \n",
    "def print_friend():\n",
    "\tprint(\" I am your friend \");"
   ]
  },
  {
   "cell_type": "code",
   "execution_count": 25,
   "metadata": {
    "ExecuteTime": {
     "end_time": "2020-01-02T05:08:05.075156Z",
     "start_time": "2020-01-02T05:08:05.069165Z"
    }
   },
   "outputs": [
    {
     "name": "stdout",
     "output_type": "stream",
     "text": [
      " I am your friend \n"
     ]
    }
   ],
   "source": [
    "print_friend() "
   ]
  },
  {
   "cell_type": "code",
   "execution_count": 26,
   "metadata": {
    "ExecuteTime": {
     "end_time": "2020-01-02T05:09:09.361486Z",
     "start_time": "2020-01-02T05:09:09.126544Z"
    }
   },
   "outputs": [],
   "source": [
    "import friend "
   ]
  },
  {
   "cell_type": "code",
   "execution_count": 27,
   "metadata": {
    "ExecuteTime": {
     "end_time": "2020-01-02T05:09:22.079332Z",
     "start_time": "2020-01-02T05:09:22.055326Z"
    }
   },
   "outputs": [],
   "source": [
    "??friend "
   ]
  },
  {
   "cell_type": "code",
   "execution_count": 28,
   "metadata": {
    "ExecuteTime": {
     "end_time": "2020-01-02T05:10:36.717257Z",
     "start_time": "2020-01-02T05:10:36.710242Z"
    }
   },
   "outputs": [
    {
     "name": "stdout",
     "output_type": "stream",
     "text": [
      " I am your friend \n"
     ]
    }
   ],
   "source": [
    "friend.print_friend() "
   ]
  },
  {
   "cell_type": "code",
   "execution_count": 29,
   "metadata": {
    "ExecuteTime": {
     "end_time": "2020-01-02T05:14:06.313038Z",
     "start_time": "2020-01-02T05:14:06.223029Z"
    }
   },
   "outputs": [],
   "source": [
    "%run friend \n"
   ]
  },
  {
   "cell_type": "code",
   "execution_count": 57,
   "metadata": {
    "ExecuteTime": {
     "end_time": "2020-01-02T05:43:36.184907Z",
     "start_time": "2020-01-02T05:43:36.177911Z"
    }
   },
   "outputs": [
    {
     "name": "stdout",
     "output_type": "stream",
     "text": [
      "The autoreload extension is already loaded. To reload it, use:\n",
      "  %reload_ext autoreload\n"
     ]
    }
   ],
   "source": [
    "%load_ext autoreload"
   ]
  },
  {
   "cell_type": "code",
   "execution_count": 61,
   "metadata": {
    "ExecuteTime": {
     "end_time": "2020-01-02T05:45:44.158501Z",
     "start_time": "2020-01-02T05:45:44.039570Z"
    }
   },
   "outputs": [
    {
     "name": "stdout",
     "output_type": "stream",
     "text": [
      " I am your friend nad i will help you \n"
     ]
    }
   ],
   "source": [
    "friend.print_friend()"
   ]
  },
  {
   "cell_type": "code",
   "execution_count": 53,
   "metadata": {
    "ExecuteTime": {
     "end_time": "2020-01-02T05:42:32.244800Z",
     "start_time": "2020-01-02T05:42:32.098087Z"
    }
   },
   "outputs": [],
   "source": [
    "import raju"
   ]
  },
  {
   "cell_type": "code",
   "execution_count": 55,
   "metadata": {
    "ExecuteTime": {
     "end_time": "2020-01-02T05:43:15.220559Z",
     "start_time": "2020-01-02T05:43:15.213567Z"
    }
   },
   "outputs": [
    {
     "name": "stdout",
     "output_type": "stream",
     "text": [
      " ia am raju \n"
     ]
    }
   ],
   "source": [
    "raju.display()"
   ]
  },
  {
   "cell_type": "code",
   "execution_count": 60,
   "metadata": {
    "ExecuteTime": {
     "end_time": "2020-01-02T05:45:18.944653Z",
     "start_time": "2020-01-02T05:45:18.827724Z"
    }
   },
   "outputs": [
    {
     "name": "stdout",
     "output_type": "stream",
     "text": [
      " ia am raju coolie no 1 \n"
     ]
    }
   ],
   "source": [
    "raju.display()"
   ]
  },
  {
   "cell_type": "code",
   "execution_count": 2,
   "metadata": {
    "ExecuteTime": {
     "end_time": "2020-01-07T19:53:01.952630Z",
     "start_time": "2020-01-07T19:53:01.936985Z"
    }
   },
   "outputs": [
    {
     "name": "stdout",
     "output_type": "stream",
     "text": [
      "NamespaceMagics\t autopep8\t get_ipython\t getsizeof\t json\t np\t var_dic_list\t \n"
     ]
    }
   ],
   "source": [
    "%who"
   ]
  },
  {
   "cell_type": "code",
   "execution_count": 4,
   "metadata": {
    "ExecuteTime": {
     "end_time": "2020-01-07T19:56:08.431980Z",
     "start_time": "2020-01-07T19:56:07.594155Z"
    }
   },
   "outputs": [
    {
     "name": "stdout",
     "output_type": "stream",
     "text": [
      " Volume in drive C has no label.\n",
      " Volume Serial Number is 984E-4602\n",
      "\n",
      " Directory of C:\\Users\\parag\n",
      "\n",
      "07-01-2020  11:55    <DIR>          .\n",
      "07-01-2020  11:55    <DIR>          ..\n",
      "26-11-2019  18:15    <DIR>          .anaconda\n",
      "02-01-2020  13:02             1,799 .bash_history\n",
      "21-12-2019  06:27    <DIR>          .conda\n",
      "21-12-2019  06:24                43 .condarc\n",
      "06-12-2019  23:19    <DIR>          .config\n",
      "15-12-2019  21:32               187 .gitconfig\n",
      "07-01-2020  11:48    <DIR>          .ipynb_checkpoints\n",
      "26-11-2019  18:27    <DIR>          .ipython\n",
      "21-12-2019  06:32    <DIR>          .jupyter\n",
      "30-11-2019  14:14    <DIR>          .matplotlib\n",
      "01-12-2019  05:27    <DIR>          .openshot_qt\n",
      "18-12-2019  06:30             1,060 .viminfo\n",
      "04-12-2019  10:18    <DIR>          .VirtualBox\n",
      "16-12-2019  09:10            25,815 123.jpg\n",
      "26-11-2019  16:47    <DIR>          3D Objects\n",
      "21-12-2019  00:33             2,047 code and codeblock.ipynb\n",
      "26-11-2019  16:47    <DIR>          Contacts\n",
      "06-01-2020  17:15    <DIR>          Desktop\n",
      "30-12-2019  07:18    <DIR>          Documents\n",
      "06-01-2020  03:23    <DIR>          Downloads\n",
      "26-11-2019  16:47    <DIR>          Favorites\n",
      "16-12-2019  09:06            10,507 images.jfif\n",
      "19-12-2019  13:41               940 inserting mathematical equation inside jupyter notebook.ipynb\n",
      "26-11-2019  16:47    <DIR>          Links\n",
      "01-01-2020  20:46    <DIR>          magic\n",
      "07-01-2020  11:55            39,681 magic-1.ipynb\n",
      "01-01-2020  21:26             2,918 magic-2.ipynb\n",
      "19-12-2019  10:30               664 Markdown tutorial part-2.ipynb\n",
      "26-11-2019  16:47    <DIR>          Music\n",
      "26-11-2019  16:56    <DIR>          OneDrive\n",
      "07-01-2020  11:55                75 parag.py\n",
      "26-11-2019  16:51    <DIR>          Pictures\n",
      "26-11-2019  16:47    <DIR>          Saved Games\n",
      "26-11-2019  16:49    <DIR>          Searches\n",
      "15-12-2019  21:46           837,997 shortcuts2.ipynb\n",
      "25-12-2019  10:50                 0 untitled.txt\n",
      "04-01-2020  07:31            17,083 Untitled6.ipynb\n",
      "02-01-2020  10:55    <DIR>          Videos\n",
      "01-12-2019  05:53    <DIR>          VirtualBox VMs\n",
      "              15 File(s)        940,816 bytes\n",
      "              26 Dir(s)  56,892,108,800 bytes free\n"
     ]
    }
   ],
   "source": [
    "%ls"
   ]
  }
 ],
 "metadata": {
  "kernelspec": {
   "display_name": "Python 3",
   "language": "python",
   "name": "python3"
  },
  "language_info": {
   "codemirror_mode": {
    "name": "ipython",
    "version": 3
   },
   "file_extension": ".py",
   "mimetype": "text/x-python",
   "name": "python",
   "nbconvert_exporter": "python",
   "pygments_lexer": "ipython3",
   "version": "3.7.4"
  },
  "toc": {
   "base_numbering": 1,
   "nav_menu": {},
   "number_sections": false,
   "sideBar": true,
   "skip_h1_title": false,
   "title_cell": "Table of Contents",
   "title_sidebar": "Contents",
   "toc_cell": false,
   "toc_position": {},
   "toc_section_display": true,
   "toc_window_display": false
  },
  "varInspector": {
   "cols": {
    "lenName": 16,
    "lenType": 16,
    "lenVar": 40
   },
   "kernels_config": {
    "python": {
     "delete_cmd_postfix": "",
     "delete_cmd_prefix": "del ",
     "library": "var_list.py",
     "varRefreshCmd": "print(var_dic_list())"
    },
    "r": {
     "delete_cmd_postfix": ") ",
     "delete_cmd_prefix": "rm(",
     "library": "var_list.r",
     "varRefreshCmd": "cat(var_dic_list()) "
    }
   },
   "types_to_exclude": [
    "module",
    "function",
    "builtin_function_or_method",
    "instance",
    "_Feature"
   ],
   "window_display": false
  }
 },
 "nbformat": 4,
 "nbformat_minor": 2
}
